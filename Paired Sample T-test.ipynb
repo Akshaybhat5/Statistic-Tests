{
 "cells": [
  {
   "cell_type": "code",
   "execution_count": 1,
   "metadata": {},
   "outputs": [],
   "source": [
    "import numpy as np\n",
    "import matplotlib.pyplot as plt\n",
    "from scipy.stats import ttest_rel, norm"
   ]
  },
  {
   "cell_type": "code",
   "execution_count": 2,
   "metadata": {},
   "outputs": [],
   "source": [
    "before = norm.rvs(loc = 500, scale = 100, size = 100, random_state = 42)\n",
    "\n",
    "np.random.seed(42)\n",
    "after = before + np.random.randint(low= -50, high=75, size= 100)"
   ]
  },
  {
   "cell_type": "code",
   "execution_count": 3,
   "metadata": {},
   "outputs": [
    {
     "data": {
      "image/png": "[encoded data removed]",
      "text/plain": [
       "<Figure size 640x480 with 1 Axes>"
      ]
     },
     "metadata": {},
     "output_type": "display_data"
    }
   ],
   "source": [
    "plt.hist(before, density= True, alpha = 0.5, label='Before')\n",
    "plt.hist(after, density=True, alpha = 0.5, label='After')\n",
    "plt.legend()\n",
    "plt.show()"
   ]
  },
  {
   "cell_type": "code",
   "execution_count": 4,
   "metadata": {},
   "outputs": [
    {
     "name": "stdout",
     "output_type": "stream",
     "text": [
      "489.61534826059057 499.9153482605905\n"
     ]
    }
   ],
   "source": [
    "before_mean = before.mean()\n",
    "after_mean = after.mean()\n",
    "print(before_mean, after_mean)"
   ]
  },
  {
   "cell_type": "code",
   "execution_count": 5,
   "metadata": {},
   "outputs": [],
   "source": [
    "null_hypothesis = 'The mean of Before sample is equal to the mean of After sample'\n",
    "alternate_hypothesis = 'The mean of Before sample is not equal to the mean of After sample'\n",
    "acceptance_criteria = 0.05"
   ]
  },
  {
   "cell_type": "code",
   "execution_count": 6,
   "metadata": {},
   "outputs": [
    {
     "name": "stdout",
     "output_type": "stream",
     "text": [
      "-2.8179652769230237 0.005835901774122185\n"
     ]
    }
   ],
   "source": [
    "t_statistics, p_value = ttest_rel(before, after)\n",
    "print(t_statistics, p_value)"
   ]
  },
  {
   "cell_type": "code",
   "execution_count": 7,
   "metadata": {},
   "outputs": [
    {
     "name": "stdout",
     "output_type": "stream",
     "text": [
      "As our p-value of 0.005835901774122185 is lower than the acceptance criteria of 0.05, we reject the null hypothesis and conclude that: The mean of Before sample is not equal to the mean of After sample\n"
     ]
    }
   ],
   "source": [
    "if p_value <= acceptance_criteria:\n",
    "    print(f'As our p-value of {p_value} is lower than the acceptance criteria of {acceptance_criteria}, we reject the null hypothesis and conclude that: {alternate_hypothesis}')\n",
    "else:\n",
    "    print(f'As our p-value of {p_value} is higher than the acceptance criteria of {acceptance_criteria}, we retain the null hypothesis and conclude that: {null_hypothesis}')"
   ]
  },
  {
   "cell_type": "code",
   "execution_count": null,
   "metadata": {},
   "outputs": [],
   "source": []
  }
 ],
 "metadata": {
  "kernelspec": {
   "display_name": "base",
   "language": "python",
   "name": "python3"
  },
  "language_info": {
   "codemirror_mode": {
    "name": "ipython",
    "version": 3
   },
   "file_extension": ".py",
   "mimetype": "text/x-python",
   "name": "python",
   "nbconvert_exporter": "python",
   "pygments_lexer": "ipython3",
   "version": "3.10.9"
  },
  "orig_nbformat": 4
 },
 "nbformat": 4,
 "nbformat_minor": 2
}
